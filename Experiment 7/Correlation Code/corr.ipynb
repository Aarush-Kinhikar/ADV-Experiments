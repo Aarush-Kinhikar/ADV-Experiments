{
 "cells": [
  {
   "cell_type": "code",
   "execution_count": 1,
   "metadata": {},
   "outputs": [],
   "source": [
    "import pandas as pd"
   ]
  },
  {
   "cell_type": "code",
   "execution_count": 2,
   "metadata": {},
   "outputs": [],
   "source": [
    "df = pd.read_csv('Financials.csv')"
   ]
  },
  {
   "cell_type": "code",
   "execution_count": 3,
   "metadata": {},
   "outputs": [
    {
     "data": {
      "text/plain": [
       "Index(['Segment', 'Country', 'Product', 'Discount Band', 'Units Sold',\n",
       "       'Manufacturing Price', 'Sale Price', 'Gross Sales', 'Discounts',\n",
       "       'Sales', 'COGS', 'Profit', 'Date', 'Month Number', 'Month Name',\n",
       "       'Year'],\n",
       "      dtype='object')"
      ]
     },
     "execution_count": 3,
     "metadata": {},
     "output_type": "execute_result"
    }
   ],
   "source": [
    "df.columns"
   ]
  },
  {
   "cell_type": "code",
   "execution_count": 5,
   "metadata": {},
   "outputs": [
    {
     "name": "stdout",
     "output_type": "stream",
     "text": [
      "<class 'pandas.core.frame.DataFrame'>\n",
      "RangeIndex: 700 entries, 0 to 699\n",
      "Data columns (total 16 columns):\n",
      " #   Column               Non-Null Count  Dtype  \n",
      "---  ------               --------------  -----  \n",
      " 0   Segment              700 non-null    object \n",
      " 1   Country              700 non-null    object \n",
      " 2   Product              700 non-null    object \n",
      " 3   Discount Band        647 non-null    object \n",
      " 4   Units Sold           700 non-null    float64\n",
      " 5   Manufacturing Price  700 non-null    int64  \n",
      " 6   Sale Price           700 non-null    int64  \n",
      " 7   Gross Sales          700 non-null    float64\n",
      " 8   Discounts            700 non-null    float64\n",
      " 9   Sales                700 non-null    float64\n",
      " 10  COGS                 700 non-null    float64\n",
      " 11  Profit               700 non-null    float64\n",
      " 12  Date                 700 non-null    object \n",
      " 13  Month Number         700 non-null    int64  \n",
      " 14  Month Name           700 non-null    object \n",
      " 15  Year                 700 non-null    int64  \n",
      "dtypes: float64(6), int64(4), object(6)\n",
      "memory usage: 87.6+ KB\n"
     ]
    }
   ],
   "source": [
    "df.info()"
   ]
  },
  {
   "cell_type": "code",
   "execution_count": 7,
   "metadata": {},
   "outputs": [],
   "source": [
    "from scipy import stats\n",
    "\n",
    "# Define a function to perform Pearson correlation hypothesis testing\n",
    "def pearson_correlation_test(x, y, alpha=0.05):\n",
    "    # Calculate Pearson correlation coefficient and p-value\n",
    "    corr_coefficient, p_value = stats.pearsonr(x, y)\n",
    "    \n",
    "    # Formulate hypotheses\n",
    "    print(\"Null Hypothesis (H0): There is no correlation between the variables.\")\n",
    "    print(\"Alternative Hypothesis (H1): There is a correlation between the variables.\")\n",
    "    \n",
    "    # Print the results\n",
    "    print(f\"Pearson correlation coefficient: {corr_coefficient:.4f}\")\n",
    "    print(f\"P-value: {p_value:.4f}\")\n",
    "    \n",
    "    # Make a decision based on the p-value\n",
    "    if p_value < alpha:\n",
    "        print(\"Reject the null hypothesis (H0). There is a significant correlation.\")\n",
    "    else:\n",
    "        print(\"Fail to reject the null hypothesis (H0). No significant correlation.\")"
   ]
  },
  {
   "cell_type": "code",
   "execution_count": 11,
   "metadata": {},
   "outputs": [
    {
     "name": "stdout",
     "output_type": "stream",
     "text": [
      "\n",
      "Testing Units Sold vs. Profit:\n",
      "Null Hypothesis (H0): There is no correlation between the variables.\n",
      "Alternative Hypothesis (H1): There is a correlation between the variables.\n",
      "Pearson correlation coefficient: 0.2284\n",
      "P-value: 0.0000\n",
      "Reject the null hypothesis (H0). There is a significant correlation.\n"
     ]
    }
   ],
   "source": [
    "print(\"\\nTesting Units Sold vs. Profit:\")\n",
    "pearson_correlation_test(df['Units Sold'], df['Profit'])"
   ]
  },
  {
   "cell_type": "code",
   "execution_count": 12,
   "metadata": {},
   "outputs": [
    {
     "name": "stdout",
     "output_type": "stream",
     "text": [
      "\n",
      "Testing Sale Price vs. Profit:\n",
      "Null Hypothesis (H0): There is no correlation between the variables.\n",
      "Alternative Hypothesis (H1): There is a correlation between the variables.\n",
      "Pearson correlation coefficient: 0.6505\n",
      "P-value: 0.0000\n",
      "Reject the null hypothesis (H0). There is a significant correlation.\n"
     ]
    }
   ],
   "source": [
    "print(\"\\nTesting Sale Price vs. Profit:\")\n",
    "pearson_correlation_test(df['Sale Price'], df['Profit'])"
   ]
  },
  {
   "cell_type": "code",
   "execution_count": 13,
   "metadata": {},
   "outputs": [
    {
     "name": "stdout",
     "output_type": "stream",
     "text": [
      "\n",
      "Testing Gross Sales vs. Profit:\n",
      "Null Hypothesis (H0): There is no correlation between the variables.\n",
      "Alternative Hypothesis (H1): There is a correlation between the variables.\n",
      "Pearson correlation coefficient: 0.7845\n",
      "P-value: 0.0000\n",
      "Reject the null hypothesis (H0). There is a significant correlation.\n"
     ]
    }
   ],
   "source": [
    "print(\"\\nTesting Gross Sales vs. Profit:\")\n",
    "pearson_correlation_test(df['Gross Sales'], df['Profit'])"
   ]
  },
  {
   "cell_type": "code",
   "execution_count": null,
   "metadata": {},
   "outputs": [],
   "source": []
  }
 ],
 "metadata": {
  "kernelspec": {
   "display_name": "base",
   "language": "python",
   "name": "python3"
  },
  "language_info": {
   "codemirror_mode": {
    "name": "ipython",
    "version": 3
   },
   "file_extension": ".py",
   "mimetype": "text/x-python",
   "name": "python",
   "nbconvert_exporter": "python",
   "pygments_lexer": "ipython3",
   "version": "3.11.5"
  }
 },
 "nbformat": 4,
 "nbformat_minor": 2
}
